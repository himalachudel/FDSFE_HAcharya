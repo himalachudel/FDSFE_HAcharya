{
  "nbformat": 4,
  "nbformat_minor": 0,
  "metadata": {
    "colab": {
      "provenance": [],
      "gpuType": "T4",
      "include_colab_link": true
    },
    "kernelspec": {
      "name": "python3",
      "display_name": "Python 3"
    },
    "language_info": {
      "name": "python"
    },
    "accelerator": "GPU"
  },
  "cells": [
    {
      "cell_type": "markdown",
      "metadata": {
        "id": "view-in-github",
        "colab_type": "text"
      },
      "source": [
        "<a href=\"https://colab.research.google.com/github/himalachudel/FDSFE_HAcharya/blob/main/Classroomcodings/Copy_of_FDSfE_cnn_28nov23_for_students.ipynb\" target=\"_parent\"><img src=\"https://colab.research.google.com/assets/colab-badge.svg\" alt=\"Open In Colab\"/></a>"
      ]
    },
    {
      "cell_type": "code",
      "execution_count": 1,
      "metadata": {
        "id": "izT85T-5Q71q"
      },
      "outputs": [],
      "source": [
        "import numpy as np\n",
        "from matplotlib import pyplot as plt\n",
        "from tensorflow import keras\n",
        "from keras import layers\n",
        "from keras import datasets\n",
        "from sklearn.metrics import confusion_matrix"
      ]
    },
    {
      "cell_type": "markdown",
      "source": [
        "# Load MNIST Data"
      ],
      "metadata": {
        "id": "moTptTK6Rb7L"
      }
    },
    {
      "cell_type": "code",
      "source": [
        "# Load the data and split it between train and test sets\n",
        "(x_train, y_train), (x_test, y_test) = datasets.mnist.load_data()"
      ],
      "metadata": {
        "id": "bVViJKONRMRl",
        "colab": {
          "base_uri": "https://localhost:8080/"
        },
        "outputId": "82fe2671-5a14-4da4-c67a-b5a17871adae"
      },
      "execution_count": 2,
      "outputs": [
        {
          "output_type": "stream",
          "name": "stdout",
          "text": [
            "Downloading data from https://storage.googleapis.com/tensorflow/tf-keras-datasets/mnist.npz\n",
            "11490434/11490434 [==============================] - 1s 0us/step\n"
          ]
        }
      ]
    },
    {
      "cell_type": "markdown",
      "source": [
        "# Explore MNIST Data"
      ],
      "metadata": {
        "id": "2ooIZFu5ReOo"
      }
    },
    {
      "cell_type": "code",
      "source": [
        "x_train.shape,y_train.shape"
      ],
      "metadata": {
        "colab": {
          "base_uri": "https://localhost:8080/"
        },
        "id": "XWakyW5KzouX",
        "outputId": "3dbab054-4bc6-4787-d0a3-2000951802f7"
      },
      "execution_count": 4,
      "outputs": [
        {
          "output_type": "execute_result",
          "data": {
            "text/plain": [
              "((60000, 28, 28), (60000,))"
            ]
          },
          "metadata": {},
          "execution_count": 4
        }
      ]
    },
    {
      "cell_type": "code",
      "source": [
        "x_test.shape,y_test.shape"
      ],
      "metadata": {
        "colab": {
          "base_uri": "https://localhost:8080/"
        },
        "id": "nvZviykSz232",
        "outputId": "1e92791c-7a61-4a83-ee02-c67cbf1b6334"
      },
      "execution_count": 5,
      "outputs": [
        {
          "output_type": "execute_result",
          "data": {
            "text/plain": [
              "((10000, 28, 28), (10000,))"
            ]
          },
          "metadata": {},
          "execution_count": 5
        }
      ]
    },
    {
      "cell_type": "code",
      "source": [
        "x_train.min(),x_train.max()"
      ],
      "metadata": {
        "colab": {
          "base_uri": "https://localhost:8080/"
        },
        "id": "DaGIuIB005-i",
        "outputId": "19a12792-964b-4a57-d55a-96112fa73ce1"
      },
      "execution_count": 6,
      "outputs": [
        {
          "output_type": "execute_result",
          "data": {
            "text/plain": [
              "(0, 255)"
            ]
          },
          "metadata": {},
          "execution_count": 6
        }
      ]
    },
    {
      "cell_type": "code",
      "source": [
        "def plot_images(images,labels,nrows=3,ncols=3):\n",
        "  fig,axes=plt.subplots(nrows=nrows,ncols=ncols,figsize=(8,8))\n",
        "\n",
        "  for i in range(nrows*ncols):\n",
        "    ax=axes.flatten()[i]\n",
        "    image=images[i]\n",
        "    label=labels[i]\n",
        "\n",
        "    ax.set_title(label)\n",
        "    ax.imshow(image,vmin=0,vmax=255,cmap=\"Greys\")\n",
        "  fig.show()\n",
        "plot_images(x_train,y_train,nrows=5,ncols=5)"
      ],
      "metadata": {
        "id": "2mw4epO8RkNw",
        "colab": {
          "base_uri": "https://localhost:8080/",
          "height": 699
        },
        "outputId": "2522f9e2-0060-4bb1-e492-1da57704c770"
      },
      "execution_count": 9,
      "outputs": [
        {
          "output_type": "display_data",
          "data": {
            "text/plain": [
              "<Figure size 800x800 with 25 Axes>"
            ],
            "image/png": "[encoded data removed]"
          },
          "metadata": {}
        }
      ]
    },
    {
      "cell_type": "markdown",
      "source": [
        "# Normalize Images"
      ],
      "metadata": {
        "id": "JX5mrZ9YVkVx"
      }
    },
    {
      "cell_type": "code",
      "source": [
        "x_train.min(),x_train.max(),x_test.min(),x_test.max()"
      ],
      "metadata": {
        "id": "LLDcYz5aYTF_",
        "colab": {
          "base_uri": "https://localhost:8080/"
        },
        "outputId": "4e2ecc8e-88ac-45c3-f4f1-72cc38cbbb10"
      },
      "execution_count": 10,
      "outputs": [
        {
          "output_type": "execute_result",
          "data": {
            "text/plain": [
              "(0, 255, 0, 255)"
            ]
          },
          "metadata": {},
          "execution_count": 10
        }
      ]
    },
    {
      "cell_type": "code",
      "source": [
        "def normalize_255(array):\n",
        "  normed_array=array.astype(float)/255\n",
        "  return normed_array\n",
        "\n",
        "xn_train=normalize_255(x_train)\n",
        "xn_test=normalize_255(x_test)\n",
        "\n",
        "xn_train.min(),xn_train.max(),xn_test.min(),xn_test.max()"
      ],
      "metadata": {
        "id": "7V5koHhpRqbR",
        "colab": {
          "base_uri": "https://localhost:8080/"
        },
        "outputId": "e1bd5496-aa9c-4be6-ad41-04bbe39f923b"
      },
      "execution_count": 11,
      "outputs": [
        {
          "output_type": "execute_result",
          "data": {
            "text/plain": [
              "(0.0, 1.0, 0.0, 1.0)"
            ]
          },
          "metadata": {},
          "execution_count": 11
        }
      ]
    },
    {
      "cell_type": "markdown",
      "source": [
        "# Reshape arrays to from (N, 28, 28) to (N, 28, 28, 1)\n",
        "\n",
        "If these were color images, the arrays would already have shape (N, 28, 28, 3). The extra dimension represents 3 \"color channels\". In our case, the images are black and white but Keras still needs that extra dimension."
      ],
      "metadata": {
        "id": "kmJpsnnTWtpM"
      }
    },
    {
      "cell_type": "code",
      "source": [
        "def reshape_for_keras(array):\n",
        "  reshaped_array=array[...,None]\n",
        "  return reshaped_array\n",
        "\n",
        "xnr_train=reshape_for_keras(xn_train)\n",
        "xnr_test=reshape_for_keras(xn_test)\n",
        "xnr_train.shape, xnr_test.shape"
      ],
      "metadata": {
        "id": "nZsYVmHGYZwg",
        "colab": {
          "base_uri": "https://localhost:8080/"
        },
        "outputId": "f6f48861-4472-4b57-ec24-3bc7f93979a1"
      },
      "execution_count": 12,
      "outputs": [
        {
          "output_type": "execute_result",
          "data": {
            "text/plain": [
              "((60000, 28, 28, 1), (10000, 28, 28, 1))"
            ]
          },
          "metadata": {},
          "execution_count": 12
        }
      ]
    },
    {
      "cell_type": "code",
      "source": [
        "xn_train[0].shape"
      ],
      "metadata": {
        "id": "KnY35CdjVolQ",
        "colab": {
          "base_uri": "https://localhost:8080/"
        },
        "outputId": "3d7ca152-b126-4af5-d65d-91c8697bb00c"
      },
      "execution_count": 13,
      "outputs": [
        {
          "output_type": "execute_result",
          "data": {
            "text/plain": [
              "(28, 28)"
            ]
          },
          "metadata": {},
          "execution_count": 13
        }
      ]
    },
    {
      "cell_type": "markdown",
      "source": [
        "# One-hot encode the label arrays"
      ],
      "metadata": {
        "id": "qnS-x9OaXuCw"
      }
    },
    {
      "cell_type": "code",
      "source": [
        "y_train.shape, y_test.shape"
      ],
      "metadata": {
        "id": "ltq4xFI6YcU7",
        "colab": {
          "base_uri": "https://localhost:8080/"
        },
        "outputId": "c2c16bdb-bb95-48b3-9158-82440d61c412"
      },
      "execution_count": 17,
      "outputs": [
        {
          "output_type": "execute_result",
          "data": {
            "text/plain": [
              "((60000,), (10000,))"
            ]
          },
          "metadata": {},
          "execution_count": 17
        }
      ]
    },
    {
      "cell_type": "code",
      "source": [
        "y_train"
      ],
      "metadata": {
        "id": "Vy7exv1GYiUP",
        "colab": {
          "base_uri": "https://localhost:8080/"
        },
        "outputId": "8c84e9b6-1e2b-43d5-9bc0-04b6f2d9b8e2"
      },
      "execution_count": 18,
      "outputs": [
        {
          "output_type": "execute_result",
          "data": {
            "text/plain": [
              "array([5, 0, 4, ..., 5, 6, 8], dtype=uint8)"
            ]
          },
          "metadata": {},
          "execution_count": 18
        }
      ]
    },
    {
      "cell_type": "code",
      "source": [
        "np.unique(y_train,return_counts=True)"
      ],
      "metadata": {
        "id": "v9F3mwtIYe9X",
        "colab": {
          "base_uri": "https://localhost:8080/"
        },
        "outputId": "73109757-9085-47b7-fee7-7fc82a4b66df"
      },
      "execution_count": 19,
      "outputs": [
        {
          "output_type": "execute_result",
          "data": {
            "text/plain": [
              "(array([0, 1, 2, 3, 4, 5, 6, 7, 8, 9], dtype=uint8),\n",
              " array([5923, 6742, 5958, 6131, 5842, 5421, 5918, 6265, 5851, 5949]))"
            ]
          },
          "metadata": {},
          "execution_count": 19
        }
      ]
    },
    {
      "cell_type": "code",
      "source": [
        "np.unique(y_test,return_counts=True)"
      ],
      "metadata": {
        "id": "sZgX4KkjXyoc",
        "colab": {
          "base_uri": "https://localhost:8080/"
        },
        "outputId": "72f0e781-6324-4a10-a3a3-f6af9fa5a0c6"
      },
      "execution_count": 20,
      "outputs": [
        {
          "output_type": "execute_result",
          "data": {
            "text/plain": [
              "(array([0, 1, 2, 3, 4, 5, 6, 7, 8, 9], dtype=uint8),\n",
              " array([ 980, 1135, 1032, 1010,  982,  892,  958, 1028,  974, 1009]))"
            ]
          },
          "metadata": {},
          "execution_count": 20
        }
      ]
    },
    {
      "cell_type": "code",
      "source": [
        "num_classes=np.unique(y_train).size\n",
        "yoh_train=keras.utils.to_categorical(y_train,num_classes)\n",
        "yoh_test=keras.utils.to_categorical(y_test,num_classes)\n",
        "\n",
        "yoh_train.shape,yoh_test.shape"
      ],
      "metadata": {
        "colab": {
          "base_uri": "https://localhost:8080/"
        },
        "id": "r0WDrquB54bq",
        "outputId": "3257f962-4fcd-4fea-aed1-016614cccbb6"
      },
      "execution_count": 22,
      "outputs": [
        {
          "output_type": "execute_result",
          "data": {
            "text/plain": [
              "((60000, 10), (10000, 10))"
            ]
          },
          "metadata": {},
          "execution_count": 22
        }
      ]
    },
    {
      "cell_type": "markdown",
      "source": [
        "# Build the CNN"
      ],
      "metadata": {
        "id": "u2R7C8phYqmP"
      }
    },
    {
      "cell_type": "code",
      "source": [
        "def build_cnn(input_shape,num_classes):\n",
        "  inputs=layers.Input(shape=input_shape)\n",
        "\n",
        "  x=layers.Conv2D(32,kernel_size=(3,3),activation=\"relu\")(inputs)\n",
        "  x=layers.MaxPooling2D(pool_size=(2,2))(x)\n",
        "\n",
        "  x=layers.Conv2D(32,kernel_size=(3,3),activation=\"relu\")(x)\n",
        "  x=layers.MaxPooling2D(pool_size=(2,2))(x)\n",
        "\n",
        "\n",
        "  x=layers.Flatten()(x)\n",
        "\n",
        "\n",
        "  x=layers.Dense(512,activation=\"relu\")(x)\n",
        "  x=layers.Dense(256,activation=\"relu\")(x)\n",
        "  x=layers.Dense(128,activation=\"relu\")(x)\n",
        "  x=layers.Dense(64,activation=\"relu\")(x)\n",
        "\n",
        "\n",
        "  outputs=layers.Dense(num_classes,activation=\"softmax\")(x)\n",
        "\n",
        "  model=keras.Model(inputs,outputs)\n",
        "  return model\n",
        "\n",
        "input_shape=xnr_train.shape[1:]\n",
        "model=build_cnn(input_shape,num_classes)\n",
        "model.summary()"
      ],
      "metadata": {
        "id": "STMaQgJ8Yp2Q",
        "colab": {
          "base_uri": "https://localhost:8080/"
        },
        "outputId": "fe19e2b2-9a1c-46d6-e8f6-772a3a346a06"
      },
      "execution_count": 26,
      "outputs": [
        {
          "output_type": "stream",
          "name": "stdout",
          "text": [
            "Model: \"model_1\"\n",
            "_________________________________________________________________\n",
            " Layer (type)                Output Shape              Param #   \n",
            "=================================================================\n",
            " input_4 (InputLayer)        [(None, 28, 28, 1)]       0         \n",
            "                                                                 \n",
            " conv2d_3 (Conv2D)           (None, 26, 26, 32)        320       \n",
            "                                                                 \n",
            " max_pooling2d_2 (MaxPoolin  (None, 13, 13, 32)        0         \n",
            " g2D)                                                            \n",
            "                                                                 \n",
            " conv2d_4 (Conv2D)           (None, 11, 11, 32)        9248      \n",
            "                                                                 \n",
            " max_pooling2d_3 (MaxPoolin  (None, 5, 5, 32)          0         \n",
            " g2D)                                                            \n",
            "                                                                 \n",
            " flatten_1 (Flatten)         (None, 800)               0         \n",
            "                                                                 \n",
            " dense_1 (Dense)             (None, 512)               410112    \n",
            "                                                                 \n",
            " dense_2 (Dense)             (None, 256)               131328    \n",
            "                                                                 \n",
            " dense_3 (Dense)             (None, 128)               32896     \n",
            "                                                                 \n",
            " dense_4 (Dense)             (None, 64)                8256      \n",
            "                                                                 \n",
            " dense_5 (Dense)             (None, 10)                650       \n",
            "                                                                 \n",
            "=================================================================\n",
            "Total params: 592810 (2.26 MB)\n",
            "Trainable params: 592810 (2.26 MB)\n",
            "Non-trainable params: 0 (0.00 Byte)\n",
            "_________________________________________________________________\n"
          ]
        }
      ]
    },
    {
      "cell_type": "markdown",
      "source": [
        "# Train model"
      ],
      "metadata": {
        "id": "69M-nuNVaSzl"
      }
    },
    {
      "cell_type": "code",
      "source": [
        "model.compile(loss=\"categorical_crossentropy\",optimizer=\"adam\",metrics=[\"accuracy\"])\n",
        "model.fit(\n",
        "    xnr_train,\n",
        "    yoh_train,\n",
        "    batch_size=256,\n",
        "    epochs=10,\n",
        "    validation_split=0.1,\n",
        ")"
      ],
      "metadata": {
        "id": "j7DuC-GiaRXl",
        "colab": {
          "base_uri": "https://localhost:8080/"
        },
        "outputId": "74c68814-7956-4e96-aeae-19f410e10028"
      },
      "execution_count": 28,
      "outputs": [
        {
          "output_type": "stream",
          "name": "stdout",
          "text": [
            "Epoch 1/10\n",
            "211/211 [==============================] - 13s 9ms/step - loss: 0.3208 - accuracy: 0.9058 - val_loss: 0.0724 - val_accuracy: 0.9782\n",
            "Epoch 2/10\n",
            "211/211 [==============================] - 1s 6ms/step - loss: 0.0663 - accuracy: 0.9791 - val_loss: 0.0575 - val_accuracy: 0.9827\n",
            "Epoch 3/10\n",
            "211/211 [==============================] - 1s 6ms/step - loss: 0.0454 - accuracy: 0.9861 - val_loss: 0.0367 - val_accuracy: 0.9903\n",
            "Epoch 4/10\n",
            "211/211 [==============================] - 1s 6ms/step - loss: 0.0336 - accuracy: 0.9897 - val_loss: 0.0370 - val_accuracy: 0.9905\n",
            "Epoch 5/10\n",
            "211/211 [==============================] - 2s 8ms/step - loss: 0.0265 - accuracy: 0.9917 - val_loss: 0.0470 - val_accuracy: 0.9883\n",
            "Epoch 6/10\n",
            "211/211 [==============================] - 2s 8ms/step - loss: 0.0240 - accuracy: 0.9920 - val_loss: 0.0332 - val_accuracy: 0.9918\n",
            "Epoch 7/10\n",
            "211/211 [==============================] - 2s 7ms/step - loss: 0.0176 - accuracy: 0.9941 - val_loss: 0.0331 - val_accuracy: 0.9910\n",
            "Epoch 8/10\n",
            "211/211 [==============================] - 1s 6ms/step - loss: 0.0151 - accuracy: 0.9952 - val_loss: 0.0383 - val_accuracy: 0.9917\n",
            "Epoch 9/10\n",
            "211/211 [==============================] - 1s 6ms/step - loss: 0.0113 - accuracy: 0.9964 - val_loss: 0.0367 - val_accuracy: 0.9905\n",
            "Epoch 10/10\n",
            "211/211 [==============================] - 1s 6ms/step - loss: 0.0107 - accuracy: 0.9966 - val_loss: 0.0383 - val_accuracy: 0.9922\n"
          ]
        },
        {
          "output_type": "execute_result",
          "data": {
            "text/plain": [
              "<keras.src.callbacks.History at 0x7d42584d12a0>"
            ]
          },
          "metadata": {},
          "execution_count": 28
        }
      ]
    },
    {
      "cell_type": "code",
      "source": [
        "model.evaluate(xnr_test,yoh_test)"
      ],
      "metadata": {
        "colab": {
          "base_uri": "https://localhost:8080/"
        },
        "id": "QGi0tKVu_yG2",
        "outputId": "a33a0508-a451-400c-fcfc-31789f70fce7"
      },
      "execution_count": 29,
      "outputs": [
        {
          "output_type": "stream",
          "name": "stdout",
          "text": [
            "313/313 [==============================] - 1s 3ms/step - loss: 0.0277 - accuracy: 0.9921\n"
          ]
        },
        {
          "output_type": "execute_result",
          "data": {
            "text/plain": [
              "[0.027711734175682068, 0.9921000003814697]"
            ]
          },
          "metadata": {},
          "execution_count": 29
        }
      ]
    },
    {
      "cell_type": "markdown",
      "source": [
        "# Plot loss and accuracy curves"
      ],
      "metadata": {
        "id": "6eWBBwePawb4"
      }
    },
    {
      "cell_type": "code",
      "source": [],
      "metadata": {
        "id": "hMe3KCpMacb2"
      },
      "execution_count": null,
      "outputs": []
    },
    {
      "cell_type": "markdown",
      "source": [
        "# Evaluate the model on the testing set"
      ],
      "metadata": {
        "id": "RqjH_U_BcX9_"
      }
    },
    {
      "cell_type": "code",
      "source": [],
      "metadata": {
        "id": "2XO8Xw01bCpk"
      },
      "execution_count": null,
      "outputs": []
    },
    {
      "cell_type": "markdown",
      "source": [
        "# Make a confusion matrix for the testing set predictions"
      ],
      "metadata": {
        "id": "PUE3l238crBz"
      }
    },
    {
      "cell_type": "code",
      "source": [
        "def plot_cm(cm, classes):\n",
        "\n",
        "    # Normalize cm and make off-diagonal elements negative so they appear red in the plot.\n",
        "    cm = cm.astype(\"float\") / np.nansum(cm, axis=1)[:, np.newaxis]\n",
        "    off_diag = ~np.eye(cm.shape[0], dtype=bool)\n",
        "    cm[off_diag] *= -1\n",
        "    vmin, vmax = -1, 1\n",
        "    cmap = \"RdBu\"\n",
        "\n",
        "    # Plot the cm\n",
        "    fig = plt.figure(figsize=(8, 8))\n",
        "    plt.imshow(cm, interpolation=\"None\", cmap=cmap, vmin=vmin, vmax=vmax)\n",
        "\n",
        "    # Create the colorbar and adjust the tick size\n",
        "    cb = plt.colorbar()\n",
        "    cb.ax.tick_params(labelsize=15)\n",
        "\n",
        "    # Set the tick mark labels on the horizontal and vertical axes to be the class names.\n",
        "    tick_marks = np.arange(len(classes))\n",
        "    plt.xticks(tick_marks, classes, rotation=90, fontsize=15)\n",
        "    plt.yticks(tick_marks, classes, fontsize=15)\n",
        "\n",
        "    # This code loops through each element of the confusion matrix and prints the value on the plot.\n",
        "    fmt = \".2f\"\n",
        "    thresh = cm.max() / 2.0\n",
        "    import itertools\n",
        "    for i, j in itertools.product(range(cm.shape[0]), range(cm.shape[1])):\n",
        "        text = format(abs(cm[i, j]), fmt)\n",
        "        if cm[i, j] == 0:\n",
        "            text = \"0\"\n",
        "        plt.text(\n",
        "            j,\n",
        "            i,\n",
        "            text,\n",
        "            horizontalalignment=\"center\",\n",
        "            color=\"white\" if abs(cm[i, j]) > thresh else \"black\",\n",
        "            fontsize=12,\n",
        "        )\n",
        "\n",
        "    plt.tight_layout()\n",
        "    plt.ylabel(\"True label\", fontsize=20)\n",
        "    plt.xlabel(\"Predicted label\", fontsize=20)\n",
        "    plt.tight_layout()\n",
        "\n",
        "    plt.show()"
      ],
      "metadata": {
        "id": "C2s97Xsxcy8N"
      },
      "execution_count": null,
      "outputs": []
    },
    {
      "cell_type": "code",
      "source": [
        "\n",
        "\n",
        "labels = np.arange(10)\n",
        "plot_cm(cm, labels)"
      ],
      "metadata": {
        "id": "iH90ZgXfd_CF"
      },
      "execution_count": null,
      "outputs": []
    }
  ]
}