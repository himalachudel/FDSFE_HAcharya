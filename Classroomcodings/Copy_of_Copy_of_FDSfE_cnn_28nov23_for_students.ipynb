{
  "nbformat": 4,
  "nbformat_minor": 0,
  "metadata": {
    "colab": {
      "provenance": [],
      "gpuType": "T4",
      "include_colab_link": true
    },
    "kernelspec": {
      "name": "python3",
      "display_name": "Python 3"
    },
    "language_info": {
      "name": "python"
    },
    "accelerator": "GPU"
  },
  "cells": [
    {
      "cell_type": "markdown",
      "metadata": {
        "id": "view-in-github",
        "colab_type": "text"
      },
      "source": [
        "<a href=\"https://colab.research.google.com/github/himalachudel/FDSFE_HAcharya/blob/main/Classroomcodings/Copy_of_Copy_of_FDSfE_cnn_28nov23_for_students.ipynb\" target=\"_parent\"><img src=\"https://colab.research.google.com/assets/colab-badge.svg\" alt=\"Open In Colab\"/></a>"
      ]
    },
    {
      "cell_type": "code",
      "execution_count": 1,
      "metadata": {
        "id": "izT85T-5Q71q"
      },
      "outputs": [],
      "source": [
        "import numpy as np\n",
        "from matplotlib import pyplot as plt\n",
        "from tensorflow import keras\n",
        "from keras import layers\n",
        "from keras import datasets\n",
        "from sklearn.metrics import confusion_matrix"
      ]
    },
    {
      "cell_type": "markdown",
      "source": [
        "# Load MNIST Data"
      ],
      "metadata": {
        "id": "moTptTK6Rb7L"
      }
    },
    {
      "cell_type": "code",
      "source": [
        "# Load the data and split it between train and test sets\n",
        "(x_train, y_train), (x_test, y_test) = datasets.mnist.load_data()"
      ],
      "metadata": {
        "id": "bVViJKONRMRl",
        "colab": {
          "base_uri": "https://localhost:8080/"
        },
        "outputId": "96c6bcc1-dbff-4017-ef78-523336e9915f"
      },
      "execution_count": 2,
      "outputs": [
        {
          "output_type": "stream",
          "name": "stdout",
          "text": [
            "Downloading data from https://storage.googleapis.com/tensorflow/tf-keras-datasets/mnist.npz\n",
            "11490434/11490434 [==============================] - 0s 0us/step\n"
          ]
        }
      ]
    },
    {
      "cell_type": "markdown",
      "source": [
        "# Explore MNIST Data"
      ],
      "metadata": {
        "id": "2ooIZFu5ReOo"
      }
    },
    {
      "cell_type": "code",
      "source": [
        "x_train.shape,y_train.shape"
      ],
      "metadata": {
        "colab": {
          "base_uri": "https://localhost:8080/"
        },
        "id": "XWakyW5KzouX",
        "outputId": "0b4f7f10-58a8-4950-8cbe-c8b6b9bcc368"
      },
      "execution_count": 3,
      "outputs": [
        {
          "output_type": "execute_result",
          "data": {
            "text/plain": [
              "((60000, 28, 28), (60000,))"
            ]
          },
          "metadata": {},
          "execution_count": 3
        }
      ]
    },
    {
      "cell_type": "code",
      "source": [
        "x_test.shape,y_test.shape"
      ],
      "metadata": {
        "colab": {
          "base_uri": "https://localhost:8080/"
        },
        "id": "nvZviykSz232",
        "outputId": "ee7a32d2-f9a6-4f99-efc2-9fa0177aaf1d"
      },
      "execution_count": 4,
      "outputs": [
        {
          "output_type": "execute_result",
          "data": {
            "text/plain": [
              "((10000, 28, 28), (10000,))"
            ]
          },
          "metadata": {},
          "execution_count": 4
        }
      ]
    },
    {
      "cell_type": "code",
      "source": [
        "x_train.min(),x_train.max()"
      ],
      "metadata": {
        "colab": {
          "base_uri": "https://localhost:8080/"
        },
        "id": "DaGIuIB005-i",
        "outputId": "63bc8d63-9301-452b-c115-e58418c8dc74"
      },
      "execution_count": 5,
      "outputs": [
        {
          "output_type": "execute_result",
          "data": {
            "text/plain": [
              "(0, 255)"
            ]
          },
          "metadata": {},
          "execution_count": 5
        }
      ]
    },
    {
      "cell_type": "code",
      "source": [
        "def plot_images(images,labels,nrows=3,ncols=3):\n",
        "  fig,axes=plt.subplots(nrows=nrows,ncols=ncols,figsize=(8,8))\n",
        "\n",
        "  for i in range(nrows*ncols):\n",
        "    ax=axes.flatten()[i]\n",
        "    image=images[i]\n",
        "    label=labels[i]\n",
        "\n",
        "    ax.set_title(label)\n",
        "    ax.imshow(image,vmin=0,vmax=255,cmap=\"Greys\")\n",
        "  fig.show()\n",
        "plot_images(x_train,y_train,nrows=5,ncols=5)"
      ],
      "metadata": {
        "id": "2mw4epO8RkNw",
        "colab": {
          "base_uri": "https://localhost:8080/",
          "height": 699
        },
        "outputId": "a9afe37d-f469-418b-a70a-fc3d5a7241fb"
      },
      "execution_count": 6,
      "outputs": [
        {
          "output_type": "display_data",
          "data": {
            "text/plain": [
              "<Figure size 800x800 with 25 Axes>"
            ],
            "image/png": "[encoded data removed]"
          },
          "metadata": {}
        }
      ]
    },
    {
      "cell_type": "markdown",
      "source": [
        "# Normalize Images"
      ],
      "metadata": {
        "id": "JX5mrZ9YVkVx"
      }
    },
    {
      "cell_type": "code",
      "source": [
        "x_train.min(),x_train.max(),x_test.min(),x_test.max()"
      ],
      "metadata": {
        "id": "LLDcYz5aYTF_",
        "colab": {
          "base_uri": "https://localhost:8080/"
        },
        "outputId": "3b3c58fc-12e5-4ff2-cf14-e312aca4a549"
      },
      "execution_count": 7,
      "outputs": [
        {
          "output_type": "execute_result",
          "data": {
            "text/plain": [
              "(0, 255, 0, 255)"
            ]
          },
          "metadata": {},
          "execution_count": 7
        }
      ]
    },
    {
      "cell_type": "code",
      "source": [
        "def normalize_255(array):\n",
        "  normed_array=array.astype(float)/255\n",
        "  return normed_array\n",
        "\n",
        "xn_train=normalize_255(x_train)\n",
        "xn_test=normalize_255(x_test)\n",
        "\n",
        "xn_train.min(),xn_train.max(),xn_test.min(),xn_test.max()"
      ],
      "metadata": {
        "id": "7V5koHhpRqbR",
        "colab": {
          "base_uri": "https://localhost:8080/"
        },
        "outputId": "a41d57d7-6f94-4bf3-e3c1-6bd91647d3b1"
      },
      "execution_count": 8,
      "outputs": [
        {
          "output_type": "execute_result",
          "data": {
            "text/plain": [
              "(0.0, 1.0, 0.0, 1.0)"
            ]
          },
          "metadata": {},
          "execution_count": 8
        }
      ]
    },
    {
      "cell_type": "markdown",
      "source": [
        "# Reshape arrays to from (N, 28, 28) to (N, 28, 28, 1)\n",
        "\n",
        "If these were color images, the arrays would already have shape (N, 28, 28, 3). The extra dimension represents 3 \"color channels\". In our case, the images are black and white but Keras still needs that extra dimension."
      ],
      "metadata": {
        "id": "kmJpsnnTWtpM"
      }
    },
    {
      "cell_type": "code",
      "source": [
        "def reshape_for_keras(array):\n",
        "  reshaped_array=array[...,None]\n",
        "  return reshaped_array\n",
        "\n",
        "xnr_train=reshape_for_keras(xn_train)\n",
        "xnr_test=reshape_for_keras(xn_test)\n",
        "xnr_train.shape, xnr_test.shape"
      ],
      "metadata": {
        "id": "nZsYVmHGYZwg",
        "colab": {
          "base_uri": "https://localhost:8080/"
        },
        "outputId": "8cb732a4-6118-4cd9-dcef-c6418f450f18"
      },
      "execution_count": 9,
      "outputs": [
        {
          "output_type": "execute_result",
          "data": {
            "text/plain": [
              "((60000, 28, 28, 1), (10000, 28, 28, 1))"
            ]
          },
          "metadata": {},
          "execution_count": 9
        }
      ]
    },
    {
      "cell_type": "code",
      "source": [
        "xn_train[0].shape"
      ],
      "metadata": {
        "id": "KnY35CdjVolQ",
        "colab": {
          "base_uri": "https://localhost:8080/"
        },
        "outputId": "be237496-d1e3-46fa-f4f9-5e569ec767e0"
      },
      "execution_count": 10,
      "outputs": [
        {
          "output_type": "execute_result",
          "data": {
            "text/plain": [
              "(28, 28)"
            ]
          },
          "metadata": {},
          "execution_count": 10
        }
      ]
    },
    {
      "cell_type": "markdown",
      "source": [
        "# One-hot encode the label arrays"
      ],
      "metadata": {
        "id": "qnS-x9OaXuCw"
      }
    },
    {
      "cell_type": "code",
      "source": [
        "y_train.shape, y_test.shape"
      ],
      "metadata": {
        "id": "ltq4xFI6YcU7",
        "colab": {
          "base_uri": "https://localhost:8080/"
        },
        "outputId": "319abc52-c573-4e50-c1ff-3a9c2ef952da"
      },
      "execution_count": 11,
      "outputs": [
        {
          "output_type": "execute_result",
          "data": {
            "text/plain": [
              "((60000,), (10000,))"
            ]
          },
          "metadata": {},
          "execution_count": 11
        }
      ]
    },
    {
      "cell_type": "code",
      "source": [
        "y_train"
      ],
      "metadata": {
        "id": "Vy7exv1GYiUP",
        "colab": {
          "base_uri": "https://localhost:8080/"
        },
        "outputId": "db62d6d3-6d81-48e5-a4c5-8394ac7b5503"
      },
      "execution_count": 12,
      "outputs": [
        {
          "output_type": "execute_result",
          "data": {
            "text/plain": [
              "array([5, 0, 4, ..., 5, 6, 8], dtype=uint8)"
            ]
          },
          "metadata": {},
          "execution_count": 12
        }
      ]
    },
    {
      "cell_type": "code",
      "source": [
        "np.unique(y_train,return_counts=True)"
      ],
      "metadata": {
        "id": "v9F3mwtIYe9X",
        "colab": {
          "base_uri": "https://localhost:8080/"
        },
        "outputId": "d8051545-55b2-49a6-d0b8-6f8f07741f1b"
      },
      "execution_count": 13,
      "outputs": [
        {
          "output_type": "execute_result",
          "data": {
            "text/plain": [
              "(array([0, 1, 2, 3, 4, 5, 6, 7, 8, 9], dtype=uint8),\n",
              " array([5923, 6742, 5958, 6131, 5842, 5421, 5918, 6265, 5851, 5949]))"
            ]
          },
          "metadata": {},
          "execution_count": 13
        }
      ]
    },
    {
      "cell_type": "code",
      "source": [
        "np.unique(y_test,return_counts=True)"
      ],
      "metadata": {
        "id": "sZgX4KkjXyoc",
        "colab": {
          "base_uri": "https://localhost:8080/"
        },
        "outputId": "11431597-496f-4b43-bf46-1ed13c93e3e2"
      },
      "execution_count": 14,
      "outputs": [
        {
          "output_type": "execute_result",
          "data": {
            "text/plain": [
              "(array([0, 1, 2, 3, 4, 5, 6, 7, 8, 9], dtype=uint8),\n",
              " array([ 980, 1135, 1032, 1010,  982,  892,  958, 1028,  974, 1009]))"
            ]
          },
          "metadata": {},
          "execution_count": 14
        }
      ]
    },
    {
      "cell_type": "code",
      "source": [
        "num_classes=np.unique(y_train).size\n",
        "yoh_train=keras.utils.to_categorical(y_train,num_classes)\n",
        "yoh_test=keras.utils.to_categorical(y_test,num_classes)\n",
        "\n",
        "yoh_train.shape,yoh_test.shape"
      ],
      "metadata": {
        "colab": {
          "base_uri": "https://localhost:8080/"
        },
        "id": "r0WDrquB54bq",
        "outputId": "0623c0b5-678e-4d30-dedf-55a0c3477962"
      },
      "execution_count": 15,
      "outputs": [
        {
          "output_type": "execute_result",
          "data": {
            "text/plain": [
              "((60000, 10), (10000, 10))"
            ]
          },
          "metadata": {},
          "execution_count": 15
        }
      ]
    },
    {
      "cell_type": "markdown",
      "source": [
        "# Build the CNN"
      ],
      "metadata": {
        "id": "u2R7C8phYqmP"
      }
    },
    {
      "cell_type": "code",
      "source": [
        "def build_cnn(input_shape,num_classes):\n",
        "  inputs=layers.Input(shape=input_shape)\n",
        "\n",
        "  x=layers.Conv2D(32,kernel_size=(3,3),activation=\"relu\")(inputs)\n",
        "  x=layers.MaxPooling2D(pool_size=(2,2))(x)\n",
        "\n",
        "  x=layers.Conv2D(64,kernel_size=(3,3),activation=\"relu\")(x)\n",
        "  x=layers.MaxPooling2D(pool_size=(2,2))(x)\n",
        "\n",
        "\n",
        "  x=layers.Flatten()(x)\n",
        "\n",
        "\n",
        "  x=layers.Dense(512,activation=\"relu\")(x)\n",
        "  x=layers.Dense(256,activation=\"relu\")(x)\n",
        "  x=layers.Dense(128,activation=\"relu\")(x)\n",
        "  x=layers.Dense(64,activation=\"relu\")(x)\n",
        "\n",
        "\n",
        "  outputs=layers.Dense(num_classes,activation=\"softmax\")(x)\n",
        "\n",
        "  model=keras.Model(inputs,outputs)\n",
        "  return model\n",
        "\n",
        "input_shape=xnr_train.shape[1:]\n",
        "model=build_cnn(input_shape,num_classes)\n",
        "model.summary()"
      ],
      "metadata": {
        "id": "STMaQgJ8Yp2Q",
        "colab": {
          "base_uri": "https://localhost:8080/"
        },
        "outputId": "6cf2516b-bf52-4d00-9267-a3558fafb2c2"
      },
      "execution_count": 21,
      "outputs": [
        {
          "output_type": "stream",
          "name": "stdout",
          "text": [
            "Model: \"model_1\"\n",
            "_________________________________________________________________\n",
            " Layer (type)                Output Shape              Param #   \n",
            "=================================================================\n",
            " input_2 (InputLayer)        [(None, 28, 28, 1)]       0         \n",
            "                                                                 \n",
            " conv2d_2 (Conv2D)           (None, 26, 26, 32)        320       \n",
            "                                                                 \n",
            " max_pooling2d_2 (MaxPoolin  (None, 13, 13, 32)        0         \n",
            " g2D)                                                            \n",
            "                                                                 \n",
            " conv2d_3 (Conv2D)           (None, 11, 11, 64)        18496     \n",
            "                                                                 \n",
            " max_pooling2d_3 (MaxPoolin  (None, 5, 5, 64)          0         \n",
            " g2D)                                                            \n",
            "                                                                 \n",
            " flatten_1 (Flatten)         (None, 1600)              0         \n",
            "                                                                 \n",
            " dense_5 (Dense)             (None, 512)               819712    \n",
            "                                                                 \n",
            " dense_6 (Dense)             (None, 256)               131328    \n",
            "                                                                 \n",
            " dense_7 (Dense)             (None, 128)               32896     \n",
            "                                                                 \n",
            " dense_8 (Dense)             (None, 64)                8256      \n",
            "                                                                 \n",
            " dense_9 (Dense)             (None, 10)                650       \n",
            "                                                                 \n",
            "=================================================================\n",
            "Total params: 1011658 (3.86 MB)\n",
            "Trainable params: 1011658 (3.86 MB)\n",
            "Non-trainable params: 0 (0.00 Byte)\n",
            "_________________________________________________________________\n"
          ]
        }
      ]
    },
    {
      "cell_type": "markdown",
      "source": [
        "# Train model"
      ],
      "metadata": {
        "id": "69M-nuNVaSzl"
      }
    },
    {
      "cell_type": "code",
      "source": [
        "model.compile(loss=\"categorical_crossentropy\",optimizer=\"adam\",metrics=[\"accuracy\"])\n",
        "model.fit(\n",
        "    xnr_train,\n",
        "    yoh_train,\n",
        "    batch_size=256,\n",
        "    epochs=10,\n",
        "    validation_split=0.1,\n",
        ")"
      ],
      "metadata": {
        "id": "j7DuC-GiaRXl",
        "colab": {
          "base_uri": "https://localhost:8080/"
        },
        "outputId": "38d1f0f6-877b-4b64-ffa5-09919e90f867"
      },
      "execution_count": 22,
      "outputs": [
        {
          "output_type": "stream",
          "name": "stdout",
          "text": [
            "Epoch 1/10\n",
            "211/211 [==============================] - 4s 9ms/step - loss: 0.3173 - accuracy: 0.9028 - val_loss: 0.0722 - val_accuracy: 0.9788\n",
            "Epoch 2/10\n",
            "211/211 [==============================] - 2s 8ms/step - loss: 0.0692 - accuracy: 0.9779 - val_loss: 0.0424 - val_accuracy: 0.9875\n",
            "Epoch 3/10\n",
            "211/211 [==============================] - 2s 8ms/step - loss: 0.0435 - accuracy: 0.9870 - val_loss: 0.0532 - val_accuracy: 0.9828\n",
            "Epoch 4/10\n",
            "211/211 [==============================] - 2s 10ms/step - loss: 0.0352 - accuracy: 0.9887 - val_loss: 0.0438 - val_accuracy: 0.9860\n",
            "Epoch 5/10\n",
            "211/211 [==============================] - 2s 9ms/step - loss: 0.0266 - accuracy: 0.9918 - val_loss: 0.0304 - val_accuracy: 0.9923\n",
            "Epoch 6/10\n",
            "211/211 [==============================] - 2s 8ms/step - loss: 0.0204 - accuracy: 0.9934 - val_loss: 0.0341 - val_accuracy: 0.9898\n",
            "Epoch 7/10\n",
            "211/211 [==============================] - 2s 8ms/step - loss: 0.0178 - accuracy: 0.9941 - val_loss: 0.0379 - val_accuracy: 0.9883\n",
            "Epoch 8/10\n",
            "211/211 [==============================] - 2s 8ms/step - loss: 0.0122 - accuracy: 0.9962 - val_loss: 0.0331 - val_accuracy: 0.9915\n",
            "Epoch 9/10\n",
            "211/211 [==============================] - 2s 8ms/step - loss: 0.0106 - accuracy: 0.9965 - val_loss: 0.0448 - val_accuracy: 0.9885\n",
            "Epoch 10/10\n",
            "211/211 [==============================] - 2s 8ms/step - loss: 0.0102 - accuracy: 0.9967 - val_loss: 0.0383 - val_accuracy: 0.9907\n"
          ]
        },
        {
          "output_type": "execute_result",
          "data": {
            "text/plain": [
              "<keras.src.callbacks.History at 0x7f3bc3110940>"
            ]
          },
          "metadata": {},
          "execution_count": 22
        }
      ]
    },
    {
      "cell_type": "code",
      "source": [
        "history=model.history.history"
      ],
      "metadata": {
        "id": "AYcctCWIK0iZ"
      },
      "execution_count": 26,
      "outputs": []
    },
    {
      "cell_type": "code",
      "source": [
        "model.evaluate(xnr_test,yoh_test)"
      ],
      "metadata": {
        "colab": {
          "base_uri": "https://localhost:8080/"
        },
        "id": "QGi0tKVu_yG2",
        "outputId": "43cf2413-e325-45d5-c436-458f7a426d9c"
      },
      "execution_count": 23,
      "outputs": [
        {
          "output_type": "stream",
          "name": "stdout",
          "text": [
            "313/313 [==============================] - 1s 3ms/step - loss: 0.0367 - accuracy: 0.9903\n"
          ]
        },
        {
          "output_type": "execute_result",
          "data": {
            "text/plain": [
              "[0.03674082085490227, 0.9902999997138977]"
            ]
          },
          "metadata": {},
          "execution_count": 23
        }
      ]
    },
    {
      "cell_type": "markdown",
      "source": [
        "# Plot loss and accuracy curves"
      ],
      "metadata": {
        "id": "6eWBBwePawb4"
      }
    },
    {
      "cell_type": "code",
      "source": [
        "def plot_curves(history):\n",
        "  fig,axes=plt.subplots(nrows=2,ncols=1,sharex=True,sharey=False,figsize=(8,8))\n",
        "\n",
        "  axes[0].set_title(\"Categorical crossentropy Loss\")\n",
        "  axes[0].plot(history[\"loss\"],label=\"Training Loss\")\n",
        "  axes[0].plot(history[\"val_loss\"],label=\"Validation Loss\")\n",
        "  axes[0].legend(loc=\"upper right\")\n",
        "  axes[0].set_ylabel(\"loss\")\n",
        "\n",
        "  axes[0].set_title(\"Categorical Accuracy\")\n",
        "  axes[0].plot(history[\"accuracy\"],label=\"Training accuracy\")\n",
        "  axes[0].plot(history[\"val_accuracy\"],label=\"Validation Accuracy\")\n",
        "  axes[0].legend(loc=\"upper right\")\n",
        "  axes[0].set_ylabel(\"Accuracy\")\n",
        "\n",
        "  axes.[1].set_xlabel(\"Epoch\")\n",
        "\n",
        "\n"
      ],
      "metadata": {
        "id": "hMe3KCpMacb2",
        "colab": {
          "base_uri": "https://localhost:8080/",
          "height": 141
        },
        "outputId": "b70e81fa-c935-4df6-fb12-3615f479dc78"
      },
      "execution_count": 29,
      "outputs": [
        {
          "output_type": "error",
          "ename": "SyntaxError",
          "evalue": "ignored",
          "traceback": [
            "\u001b[0;36m  File \u001b[0;32m\"<ipython-input-29-2c5bd252e55b>\"\u001b[0;36m, line \u001b[0;32m16\u001b[0m\n\u001b[0;31m    axes.[1].set_xlabel(\"Epoch\")\u001b[0m\n\u001b[0m         ^\u001b[0m\n\u001b[0;31mSyntaxError\u001b[0m\u001b[0;31m:\u001b[0m invalid syntax\n"
          ]
        }
      ]
    },
    {
      "cell_type": "markdown",
      "source": [
        "# Evaluate the model on the testing set"
      ],
      "metadata": {
        "id": "RqjH_U_BcX9_"
      }
    },
    {
      "cell_type": "code",
      "source": [],
      "metadata": {
        "id": "2XO8Xw01bCpk"
      },
      "execution_count": 18,
      "outputs": []
    },
    {
      "cell_type": "markdown",
      "source": [
        "# Make a confusion matrix for the testing set predictions"
      ],
      "metadata": {
        "id": "PUE3l238crBz"
      }
    },
    {
      "cell_type": "code",
      "source": [
        "def plot_cm(cm, classes):\n",
        "\n",
        "    # Normalize cm and make off-diagonal elements negative so they appear red in the plot.\n",
        "    cm = cm.astype(\"float\") / np.nansum(cm, axis=1)[:, np.newaxis]\n",
        "    off_diag = ~np.eye(cm.shape[0], dtype=bool)\n",
        "    cm[off_diag] *= -1\n",
        "    vmin, vmax = -1, 1\n",
        "    cmap = \"RdBu\"\n",
        "\n",
        "    # Plot the cm\n",
        "    fig = plt.figure(figsize=(8, 8))\n",
        "    plt.imshow(cm, interpolation=\"None\", cmap=cmap, vmin=vmin, vmax=vmax)\n",
        "\n",
        "    # Create the colorbar and adjust the tick size\n",
        "    cb = plt.colorbar()\n",
        "    cb.ax.tick_params(labelsize=15)\n",
        "\n",
        "    # Set the tick mark labels on the horizontal and vertical axes to be the class names.\n",
        "    tick_marks = np.arange(len(classes))\n",
        "    plt.xticks(tick_marks, classes, rotation=90, fontsize=15)\n",
        "    plt.yticks(tick_marks, classes, fontsize=15)\n",
        "\n",
        "    # This code loops through each element of the confusion matrix and prints the value on the plot.\n",
        "    fmt = \".2f\"\n",
        "    thresh = cm.max() / 2.0\n",
        "    import itertools\n",
        "    for i, j in itertools.product(range(cm.shape[0]), range(cm.shape[1])):\n",
        "        text = format(abs(cm[i, j]), fmt)\n",
        "        if cm[i, j] == 0:\n",
        "            text = \"0\"\n",
        "        plt.text(\n",
        "            j,\n",
        "            i,\n",
        "            text,\n",
        "            horizontalalignment=\"center\",\n",
        "            color=\"white\" if abs(cm[i, j]) > thresh else \"black\",\n",
        "            fontsize=12,\n",
        "        )\n",
        "\n",
        "    plt.tight_layout()\n",
        "    plt.ylabel(\"True label\", fontsize=20)\n",
        "    plt.xlabel(\"Predicted label\", fontsize=20)\n",
        "    plt.tight_layout()\n",
        "\n",
        "    plt.show()"
      ],
      "metadata": {
        "id": "C2s97Xsxcy8N"
      },
      "execution_count": 19,
      "outputs": []
    },
    {
      "cell_type": "code",
      "source": [
        "pred=model.predict(xnr_test)\n",
        "y_pred=np.argmax(pred, axis=1)\n",
        "\n",
        "y_true=np.argmax(yoh_test,axis=1)\n",
        "cm=confusion_matrix(y_true,y_pred)\n",
        "cm"
      ],
      "metadata": {
        "colab": {
          "base_uri": "https://localhost:8080/"
        },
        "id": "7wSB7IIBNkvU",
        "outputId": "3da70791-83de-4cc9-c48a-447684fb11b7"
      },
      "execution_count": 30,
      "outputs": [
        {
          "output_type": "stream",
          "name": "stdout",
          "text": [
            "313/313 [==============================] - 1s 3ms/step\n"
          ]
        },
        {
          "output_type": "execute_result",
          "data": {
            "text/plain": [
              "array([[ 971,    1,    1,    0,    0,    0,    1,    5,    0,    1],\n",
              "       [   0, 1132,    2,    0,    0,    0,    0,    1,    0,    0],\n",
              "       [   0,    0, 1018,    1,    0,    0,    0,   13,    0,    0],\n",
              "       [   0,    0,    4, 1001,    0,    2,    0,    1,    1,    1],\n",
              "       [   0,    5,    0,    0,  973,    0,    0,    1,    0,    3],\n",
              "       [   2,    0,    1,    4,    0,  881,    1,    1,    0,    2],\n",
              "       [   3,    4,    1,    0,    2,    3,  943,    0,    2,    0],\n",
              "       [   0,    0,    1,    0,    0,    0,    0, 1026,    0,    1],\n",
              "       [   3,    0,    2,    1,    0,    0,    0,    4,  962,    2],\n",
              "       [   0,    3,    0,    0,    3,    3,    0,    2,    2,  996]])"
            ]
          },
          "metadata": {},
          "execution_count": 30
        }
      ]
    },
    {
      "cell_type": "code",
      "source": [
        "labels = np.arange(10)\n",
        "plot_cm(cm, labels)"
      ],
      "metadata": {
        "id": "iH90ZgXfd_CF",
        "colab": {
          "base_uri": "https://localhost:8080/",
          "height": 807
        },
        "outputId": "7585accb-78bc-4fb4-c517-c5ed4fb06c00"
      },
      "execution_count": 31,
      "outputs": [
        {
          "output_type": "display_data",
          "data": {
            "text/plain": [
              "<Figure size 800x800 with 2 Axes>"
            ],
            "image/png": "[encoded data removed]"
          },
          "metadata": {}
        }
      ]
    }
  ]
}